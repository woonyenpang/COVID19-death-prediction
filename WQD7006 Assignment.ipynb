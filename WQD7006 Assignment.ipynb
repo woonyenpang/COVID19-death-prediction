{
 "cells": [
  {
   "cell_type": "markdown",
   "id": "3fb873b0",
   "metadata": {},
   "source": [
    "# Predicting death of COVID-19 patients"
   ]
  },
  {
   "cell_type": "code",
   "execution_count": 1,
   "id": "556e2ffc",
   "metadata": {},
   "outputs": [],
   "source": [
    "# import necessary packages\n",
    "import pandas as pd\n",
    "import numpy as np\n",
    "import matplotlib.pyplot as plt\n",
    "import seaborn as sns\n",
    "import datetime\n",
    "import time"
   ]
  },
  {
   "cell_type": "code",
   "execution_count": 2,
   "id": "bab255dc",
   "metadata": {},
   "outputs": [],
   "source": [
    "# import the dataset\n",
    "df = pd.read_csv('./COVID-19_Case_Surveillance_Public_Use_Data.csv')"
   ]
  },
  {
   "cell_type": "code",
   "execution_count": 3,
   "id": "77be315b",
   "metadata": {},
   "outputs": [
    {
     "data": {
      "text/html": [
       "<div>\n",
       "<style scoped>\n",
       "    .dataframe tbody tr th:only-of-type {\n",
       "        vertical-align: middle;\n",
       "    }\n",
       "\n",
       "    .dataframe tbody tr th {\n",
       "        vertical-align: top;\n",
       "    }\n",
       "\n",
       "    .dataframe thead th {\n",
       "        text-align: right;\n",
       "    }\n",
       "</style>\n",
       "<table border=\"1\" class=\"dataframe\">\n",
       "  <thead>\n",
       "    <tr style=\"text-align: right;\">\n",
       "      <th></th>\n",
       "      <th>cdc_case_earliest_dt</th>\n",
       "      <th>cdc_report_dt</th>\n",
       "      <th>pos_spec_dt</th>\n",
       "      <th>onset_dt</th>\n",
       "      <th>current_status</th>\n",
       "      <th>sex</th>\n",
       "      <th>age_group</th>\n",
       "      <th>race_ethnicity_combined</th>\n",
       "      <th>hosp_yn</th>\n",
       "      <th>icu_yn</th>\n",
       "      <th>death_yn</th>\n",
       "      <th>medcond_yn</th>\n",
       "    </tr>\n",
       "  </thead>\n",
       "  <tbody>\n",
       "    <tr>\n",
       "      <th>0</th>\n",
       "      <td>2020/04/16</td>\n",
       "      <td>2020/04/16</td>\n",
       "      <td>NaN</td>\n",
       "      <td>NaN</td>\n",
       "      <td>Laboratory-confirmed case</td>\n",
       "      <td>Male</td>\n",
       "      <td>10 - 19 Years</td>\n",
       "      <td>Black, Non-Hispanic</td>\n",
       "      <td>No</td>\n",
       "      <td>Missing</td>\n",
       "      <td>No</td>\n",
       "      <td>Missing</td>\n",
       "    </tr>\n",
       "    <tr>\n",
       "      <th>1</th>\n",
       "      <td>2021/08/13</td>\n",
       "      <td>2021/08/13</td>\n",
       "      <td>2021/08/13</td>\n",
       "      <td>NaN</td>\n",
       "      <td>Probable Case</td>\n",
       "      <td>Male</td>\n",
       "      <td>10 - 19 Years</td>\n",
       "      <td>Black, Non-Hispanic</td>\n",
       "      <td>Unknown</td>\n",
       "      <td>Unknown</td>\n",
       "      <td>No</td>\n",
       "      <td>Unknown</td>\n",
       "    </tr>\n",
       "    <tr>\n",
       "      <th>2</th>\n",
       "      <td>2020/12/20</td>\n",
       "      <td>2020/12/31</td>\n",
       "      <td>2020/12/20</td>\n",
       "      <td>NaN</td>\n",
       "      <td>Laboratory-confirmed case</td>\n",
       "      <td>Male</td>\n",
       "      <td>10 - 19 Years</td>\n",
       "      <td>Black, Non-Hispanic</td>\n",
       "      <td>No</td>\n",
       "      <td>Missing</td>\n",
       "      <td>No</td>\n",
       "      <td>Missing</td>\n",
       "    </tr>\n",
       "    <tr>\n",
       "      <th>3</th>\n",
       "      <td>2021/08/17</td>\n",
       "      <td>2021/08/17</td>\n",
       "      <td>2021/08/17</td>\n",
       "      <td>NaN</td>\n",
       "      <td>Laboratory-confirmed case</td>\n",
       "      <td>Male</td>\n",
       "      <td>10 - 19 Years</td>\n",
       "      <td>Black, Non-Hispanic</td>\n",
       "      <td>Unknown</td>\n",
       "      <td>Unknown</td>\n",
       "      <td>No</td>\n",
       "      <td>Unknown</td>\n",
       "    </tr>\n",
       "    <tr>\n",
       "      <th>4</th>\n",
       "      <td>2021/09/08</td>\n",
       "      <td>2021/09/08</td>\n",
       "      <td>2021/09/08</td>\n",
       "      <td>NaN</td>\n",
       "      <td>Laboratory-confirmed case</td>\n",
       "      <td>Male</td>\n",
       "      <td>10 - 19 Years</td>\n",
       "      <td>Black, Non-Hispanic</td>\n",
       "      <td>Unknown</td>\n",
       "      <td>Unknown</td>\n",
       "      <td>No</td>\n",
       "      <td>Unknown</td>\n",
       "    </tr>\n",
       "  </tbody>\n",
       "</table>\n",
       "</div>"
      ],
      "text/plain": [
       "  cdc_case_earliest_dt  cdc_report_dt pos_spec_dt onset_dt  \\\n",
       "0            2020/04/16    2020/04/16         NaN      NaN   \n",
       "1            2021/08/13    2021/08/13  2021/08/13      NaN   \n",
       "2            2020/12/20    2020/12/31  2020/12/20      NaN   \n",
       "3            2021/08/17    2021/08/17  2021/08/17      NaN   \n",
       "4            2021/09/08    2021/09/08  2021/09/08      NaN   \n",
       "\n",
       "              current_status   sex      age_group race_ethnicity_combined  \\\n",
       "0  Laboratory-confirmed case  Male  10 - 19 Years     Black, Non-Hispanic   \n",
       "1              Probable Case  Male  10 - 19 Years     Black, Non-Hispanic   \n",
       "2  Laboratory-confirmed case  Male  10 - 19 Years     Black, Non-Hispanic   \n",
       "3  Laboratory-confirmed case  Male  10 - 19 Years     Black, Non-Hispanic   \n",
       "4  Laboratory-confirmed case  Male  10 - 19 Years     Black, Non-Hispanic   \n",
       "\n",
       "   hosp_yn   icu_yn death_yn medcond_yn  \n",
       "0       No  Missing       No    Missing  \n",
       "1  Unknown  Unknown       No    Unknown  \n",
       "2       No  Missing       No    Missing  \n",
       "3  Unknown  Unknown       No    Unknown  \n",
       "4  Unknown  Unknown       No    Unknown  "
      ]
     },
     "execution_count": 3,
     "metadata": {},
     "output_type": "execute_result"
    }
   ],
   "source": [
    "# view the first 5 rows of dataset\n",
    "df.head()"
   ]
  },
  {
   "cell_type": "code",
   "execution_count": 4,
   "id": "55b7b21e",
   "metadata": {},
   "outputs": [
    {
     "data": {
      "text/plain": [
       "(37532072, 12)"
      ]
     },
     "execution_count": 4,
     "metadata": {},
     "output_type": "execute_result"
    }
   ],
   "source": [
    "df.shape"
   ]
  },
  {
   "cell_type": "markdown",
   "id": "0f71c61f",
   "metadata": {},
   "source": [
    "## Exploratory Data Analysis and Visualization"
   ]
  },
  {
   "cell_type": "code",
   "execution_count": 5,
   "id": "ec136df7",
   "metadata": {},
   "outputs": [
    {
     "data": {
      "text/html": [
       "<div>\n",
       "<style scoped>\n",
       "    .dataframe tbody tr th:only-of-type {\n",
       "        vertical-align: middle;\n",
       "    }\n",
       "\n",
       "    .dataframe tbody tr th {\n",
       "        vertical-align: top;\n",
       "    }\n",
       "\n",
       "    .dataframe thead th {\n",
       "        text-align: right;\n",
       "    }\n",
       "</style>\n",
       "<table border=\"1\" class=\"dataframe\">\n",
       "  <thead>\n",
       "    <tr style=\"text-align: right;\">\n",
       "      <th></th>\n",
       "      <th>cdc_case_earliest_dt</th>\n",
       "      <th>cdc_report_dt</th>\n",
       "      <th>pos_spec_dt</th>\n",
       "      <th>onset_dt</th>\n",
       "      <th>current_status</th>\n",
       "      <th>sex</th>\n",
       "      <th>age_group</th>\n",
       "      <th>race_ethnicity_combined</th>\n",
       "      <th>hosp_yn</th>\n",
       "      <th>icu_yn</th>\n",
       "      <th>death_yn</th>\n",
       "      <th>medcond_yn</th>\n",
       "    </tr>\n",
       "  </thead>\n",
       "  <tbody>\n",
       "    <tr>\n",
       "      <th>count</th>\n",
       "      <td>37532072</td>\n",
       "      <td>34621253</td>\n",
       "      <td>12418877</td>\n",
       "      <td>17310661</td>\n",
       "      <td>37532072</td>\n",
       "      <td>37532053</td>\n",
       "      <td>37531996</td>\n",
       "      <td>37532059</td>\n",
       "      <td>37532072</td>\n",
       "      <td>37532072</td>\n",
       "      <td>37532072</td>\n",
       "      <td>37532072</td>\n",
       "    </tr>\n",
       "    <tr>\n",
       "      <th>unique</th>\n",
       "      <td>663</td>\n",
       "      <td>677</td>\n",
       "      <td>670</td>\n",
       "      <td>677</td>\n",
       "      <td>2</td>\n",
       "      <td>5</td>\n",
       "      <td>10</td>\n",
       "      <td>9</td>\n",
       "      <td>4</td>\n",
       "      <td>5</td>\n",
       "      <td>4</td>\n",
       "      <td>4</td>\n",
       "    </tr>\n",
       "    <tr>\n",
       "      <th>top</th>\n",
       "      <td>2021/01/05</td>\n",
       "      <td>2021/11/02</td>\n",
       "      <td>2021/01/04</td>\n",
       "      <td>2021/01/04</td>\n",
       "      <td>Laboratory-confirmed case</td>\n",
       "      <td>Female</td>\n",
       "      <td>20 - 29 Years</td>\n",
       "      <td>White, Non-Hispanic</td>\n",
       "      <td>No</td>\n",
       "      <td>Missing</td>\n",
       "      <td>Missing</td>\n",
       "      <td>Missing</td>\n",
       "    </tr>\n",
       "    <tr>\n",
       "      <th>freq</th>\n",
       "      <td>274052</td>\n",
       "      <td>832114</td>\n",
       "      <td>97509</td>\n",
       "      <td>97897</td>\n",
       "      <td>32865602</td>\n",
       "      <td>19422630</td>\n",
       "      <td>6815430</td>\n",
       "      <td>12699292</td>\n",
       "      <td>15630029</td>\n",
       "      <td>31662298</td>\n",
       "      <td>18071966</td>\n",
       "      <td>29731671</td>\n",
       "    </tr>\n",
       "  </tbody>\n",
       "</table>\n",
       "</div>"
      ],
      "text/plain": [
       "       cdc_case_earliest_dt  cdc_report_dt pos_spec_dt    onset_dt  \\\n",
       "count               37532072      34621253    12418877    17310661   \n",
       "unique                   663           677         670         677   \n",
       "top               2021/01/05    2021/11/02  2021/01/04  2021/01/04   \n",
       "freq                  274052        832114       97509       97897   \n",
       "\n",
       "                   current_status       sex      age_group  \\\n",
       "count                    37532072  37532053       37531996   \n",
       "unique                          2         5             10   \n",
       "top     Laboratory-confirmed case    Female  20 - 29 Years   \n",
       "freq                     32865602  19422630        6815430   \n",
       "\n",
       "       race_ethnicity_combined   hosp_yn    icu_yn  death_yn medcond_yn  \n",
       "count                 37532059  37532072  37532072  37532072   37532072  \n",
       "unique                       9         4         5         4          4  \n",
       "top        White, Non-Hispanic        No   Missing   Missing    Missing  \n",
       "freq                  12699292  15630029  31662298  18071966   29731671  "
      ]
     },
     "execution_count": 5,
     "metadata": {},
     "output_type": "execute_result"
    }
   ],
   "source": [
    "# check the count and unique of each column\n",
    "df.describe()"
   ]
  },
  {
   "cell_type": "code",
   "execution_count": 6,
   "id": "836f9ef3",
   "metadata": {},
   "outputs": [
    {
     "name": "stdout",
     "output_type": "stream",
     "text": [
      "<class 'pandas.core.frame.DataFrame'>\n",
      "RangeIndex: 37532072 entries, 0 to 37532071\n",
      "Data columns (total 12 columns):\n",
      " #   Column                   Dtype \n",
      "---  ------                   ----- \n",
      " 0   cdc_case_earliest_dt     object\n",
      " 1   cdc_report_dt            object\n",
      " 2   pos_spec_dt              object\n",
      " 3   onset_dt                 object\n",
      " 4   current_status           object\n",
      " 5   sex                      object\n",
      " 6   age_group                object\n",
      " 7   race_ethnicity_combined  object\n",
      " 8   hosp_yn                  object\n",
      " 9   icu_yn                   object\n",
      " 10  death_yn                 object\n",
      " 11  medcond_yn               object\n",
      "dtypes: object(12)\n",
      "memory usage: 3.4+ GB\n"
     ]
    }
   ],
   "source": [
    "# check the data type of variables\n",
    "df.info()"
   ]
  },
  {
   "cell_type": "code",
   "execution_count": 7,
   "id": "1cb76138",
   "metadata": {},
   "outputs": [
    {
     "data": {
      "text/plain": [
       "Missing    18071966\n",
       "No         14079810\n",
       "Unknown     4748920\n",
       "Yes          631376\n",
       "Name: death_yn, dtype: int64"
      ]
     },
     "execution_count": 7,
     "metadata": {},
     "output_type": "execute_result"
    }
   ],
   "source": [
    "# check the frequency count of target variable - death_yn\n",
    "df['death_yn'].value_counts()"
   ]
  },
  {
   "cell_type": "code",
   "execution_count": 8,
   "id": "cae3188b",
   "metadata": {},
   "outputs": [],
   "source": [
    "# Since the dataset is huge, we could remove rows with Missing or Unknown values at target variable\n",
    "df = df[df['death_yn'].isin(['Yes','No'])]"
   ]
  },
  {
   "cell_type": "code",
   "execution_count": 9,
   "id": "4c925cd2",
   "metadata": {},
   "outputs": [
    {
     "data": {
      "text/plain": [
       "(14711186, 12)"
      ]
     },
     "execution_count": 9,
     "metadata": {},
     "output_type": "execute_result"
    }
   ],
   "source": [
    "# check again the shape of subset\n",
    "df.shape"
   ]
  },
  {
   "cell_type": "code",
   "execution_count": 10,
   "id": "d4c0d1be",
   "metadata": {},
   "outputs": [
    {
     "data": {
      "image/png": "[encoded data removed]",
      "text/plain": [
       "<Figure size 2000x1400 with 1 Axes>"
      ]
     },
     "metadata": {
      "needs_background": "light"
     },
     "output_type": "display_data"
    }
   ],
   "source": [
    "# visualise the outcome of target variable in the sample\n",
    "fig = plt.figure(figsize=(10,7),dpi=200)\n",
    "sns.countplot(data=df,x='death_yn')\n",
    "plt.savefig('countplot.png', bbox_inches='tight')\n"
   ]
  },
  {
   "cell_type": "code",
   "execution_count": 11,
   "id": "7bec0524",
   "metadata": {},
   "outputs": [
    {
     "data": {
      "image/png": "[encoded data removed]",
      "text/plain": [
       "<Figure size 2000x1400 with 1 Axes>"
      ]
     },
     "metadata": {
      "needs_background": "light"
     },
     "output_type": "display_data"
    }
   ],
   "source": [
    "# visualise the age group by target variable\n",
    "fig = plt.figure(figsize=(10,7),dpi=200)\n",
    "sns.countplot(data=df,x='age_group',hue='death_yn')\n",
    "plt.xticks(rotation=90);\n",
    "\n",
    "plt.savefig('countplot_agegroup.png', bbox_inches='tight')\n"
   ]
  },
  {
   "cell_type": "code",
   "execution_count": 12,
   "id": "599fa501",
   "metadata": {},
   "outputs": [
    {
     "name": "stdout",
     "output_type": "stream",
     "text": [
      "\n",
      "Chi-squared test for independence\n",
      "\n",
      "Test              Df    Chi-square    P-value\n",
      "--------------  ----  ------------  ---------\n",
      "Pearson            9   2.76477e+06          0\n",
      "Log-likelihood     9   1.673e+06            0\n",
      "\n"
     ]
    }
   ],
   "source": [
    "from bioinfokit.analys import stat, get_data\n",
    "\n",
    "results = pd.crosstab(df['age_group'],df['death_yn'],margins=False)\n",
    "\n",
    "res = stat()\n",
    "res.chisq(results)\n",
    "\n",
    "# output\n",
    "print(res.summary)"
   ]
  },
  {
   "cell_type": "code",
   "execution_count": 13,
   "id": "35ad72c3",
   "metadata": {},
   "outputs": [
    {
     "name": "stdout",
     "output_type": "stream",
     "text": [
      "cdc_case_earliest_dt  0.0\n",
      "cdc_report_dt 0.0\n",
      "pos_spec_dt 0.0\n",
      "onset_dt 0.0\n",
      "current_status 0.0\n",
      "sex 0.11963005565968644\n",
      "age_group 0.11086121812340624\n",
      "race_ethnicity_combined 0.47370755831650824\n",
      "hosp_yn 18.644635449514404\n",
      "icu_yn 74.56064385291573\n",
      "death_yn 0.0\n",
      "medcond_yn 69.02722187048685\n"
     ]
    }
   ],
   "source": [
    "# check the percentage of missing value in each column\n",
    "\n",
    "for column in df:\n",
    "    print(column,df[df[column]=='Missing'].shape[0]/df.shape[0]*100)"
   ]
  },
  {
   "cell_type": "code",
   "execution_count": 14,
   "id": "b186d4e5",
   "metadata": {},
   "outputs": [
    {
     "data": {
      "text/plain": [
       "cdc_case_earliest_dt             0\n",
       "cdc_report_dt                  175\n",
       "pos_spec_dt                8168352\n",
       "onset_dt                   6482615\n",
       "current_status                   0\n",
       "sex                              6\n",
       "age_group                       30\n",
       "race_ethnicity_combined          3\n",
       "hosp_yn                          0\n",
       "icu_yn                           0\n",
       "death_yn                         0\n",
       "medcond_yn                       0\n",
       "dtype: int64"
      ]
     },
     "execution_count": 14,
     "metadata": {},
     "output_type": "execute_result"
    }
   ],
   "source": [
    "# check the count of NaN\n",
    "df.isnull().sum()"
   ]
  },
  {
   "cell_type": "markdown",
   "id": "985ec58e",
   "metadata": {},
   "source": [
    "## Data Transformation"
   ]
  },
  {
   "cell_type": "code",
   "execution_count": 15,
   "id": "15f2eee0",
   "metadata": {},
   "outputs": [],
   "source": [
    "# drop the variables with high missing values\n",
    "\n",
    "df = df.drop(['pos_spec_dt','onset_dt'],axis=1)\n"
   ]
  },
  {
   "cell_type": "code",
   "execution_count": 16,
   "id": "46a972cf",
   "metadata": {},
   "outputs": [],
   "source": [
    "# convert the date from string format to datetime64\n",
    "df['cdc_report_dt'] = pd.to_datetime(df['cdc_report_dt'], format='%Y/%m/%d')\n",
    "df['cdc_case_earliest_dt'] = pd.to_datetime(df['cdc_case_earliest_dt '], format='%Y/%m/%d')"
   ]
  },
  {
   "cell_type": "code",
   "execution_count": 17,
   "id": "1a7a4402",
   "metadata": {},
   "outputs": [],
   "source": [
    "# df.info()\n",
    "df = df.drop('cdc_case_earliest_dt ',axis=1)"
   ]
  },
  {
   "cell_type": "code",
   "execution_count": 18,
   "id": "9de25978",
   "metadata": {},
   "outputs": [],
   "source": [
    "# create a new column to indicate days difference between earliest date and report date\n",
    "df['earliest_to_report'] = df['cdc_report_dt'] - df['cdc_case_earliest_dt']\n",
    "\n",
    "# transform the datatype to float\n",
    "df['earliest_to_report'] = df['earliest_to_report']/np.timedelta64(1,'D')"
   ]
  },
  {
   "cell_type": "code",
   "execution_count": 19,
   "id": "5bd61f24",
   "metadata": {},
   "outputs": [],
   "source": [
    "# drop rows with NaN as missing portion is little\n",
    "\n",
    "df = df.dropna()"
   ]
  },
  {
   "cell_type": "code",
   "execution_count": 20,
   "id": "890c7b9f",
   "metadata": {},
   "outputs": [
    {
     "data": {
      "text/plain": [
       "<seaborn.axisgrid.FacetGrid at 0x7f954aa89be0>"
      ]
     },
     "execution_count": 20,
     "metadata": {},
     "output_type": "execute_result"
    },
    {
     "data": {
      "image/png": "[encoded data removed]",
      "text/plain": [
       "<Figure size 360x360 with 1 Axes>"
      ]
     },
     "metadata": {
      "needs_background": "light"
     },
     "output_type": "display_data"
    }
   ],
   "source": [
    "sns.displot(data=df,x='earliest_to_report',bins=50)"
   ]
  },
  {
   "cell_type": "markdown",
   "id": "aeea29e8",
   "metadata": {},
   "source": [
    "## Random Undersampling"
   ]
  },
  {
   "cell_type": "code",
   "execution_count": 21,
   "id": "43467f25",
   "metadata": {},
   "outputs": [
    {
     "data": {
      "text/plain": [
       "No     14079781\n",
       "Yes      631200\n",
       "Name: death_yn, dtype: int64"
      ]
     },
     "execution_count": 21,
     "metadata": {},
     "output_type": "execute_result"
    }
   ],
   "source": [
    "# check the frequency count of target variable - death_yn\n",
    "df['death_yn'].value_counts()"
   ]
  },
  {
   "cell_type": "code",
   "execution_count": 22,
   "id": "757b6d7e",
   "metadata": {},
   "outputs": [],
   "source": [
    "# draw a sample of 700,000 observations from initial dataset where death_yn = No\n",
    "survived_sample = df[df['death_yn']=='No'].sample(n=700000, replace=False,random_state=101)"
   ]
  },
  {
   "cell_type": "code",
   "execution_count": 23,
   "id": "21bf6940",
   "metadata": {},
   "outputs": [],
   "source": [
    "# form the final dataset for analysis\n",
    "\n",
    "df = pd.concat([df[df['death_yn']=='Yes'], survived_sample], axis=0)"
   ]
  },
  {
   "cell_type": "code",
   "execution_count": 24,
   "id": "684b22c8",
   "metadata": {},
   "outputs": [],
   "source": [
    "# encode death_yn to 1 and 0\n",
    "\n",
    "df['death_yn'] = df['death_yn'].replace({'Yes':1,'No':0})"
   ]
  },
  {
   "cell_type": "code",
   "execution_count": 25,
   "id": "b1ca537d",
   "metadata": {},
   "outputs": [
    {
     "name": "stdout",
     "output_type": "stream",
     "text": [
      "<class 'pandas.core.frame.DataFrame'>\n",
      "Int64Index: 1331200 entries, 881 to 1848793\n",
      "Data columns (total 11 columns):\n",
      " #   Column                   Non-Null Count    Dtype         \n",
      "---  ------                   --------------    -----         \n",
      " 0   cdc_report_dt            1331200 non-null  datetime64[ns]\n",
      " 1   current_status           1331200 non-null  object        \n",
      " 2   sex                      1331200 non-null  object        \n",
      " 3   age_group                1331200 non-null  object        \n",
      " 4   race_ethnicity_combined  1331200 non-null  object        \n",
      " 5   hosp_yn                  1331200 non-null  object        \n",
      " 6   icu_yn                   1331200 non-null  object        \n",
      " 7   death_yn                 1331200 non-null  int64         \n",
      " 8   medcond_yn               1331200 non-null  object        \n",
      " 9   cdc_case_earliest_dt     1331200 non-null  datetime64[ns]\n",
      " 10  earliest_to_report       1331200 non-null  float64       \n",
      "dtypes: datetime64[ns](2), float64(1), int64(1), object(7)\n",
      "memory usage: 121.9+ MB\n"
     ]
    }
   ],
   "source": [
    "df.info()"
   ]
  },
  {
   "cell_type": "markdown",
   "id": "b1ec36c0",
   "metadata": {},
   "source": [
    "## Train | Test Split and Scaling"
   ]
  },
  {
   "cell_type": "code",
   "execution_count": 26,
   "id": "7ea20f32",
   "metadata": {},
   "outputs": [],
   "source": [
    "# split the dataset to X and y\n",
    "X = df.drop(['cdc_report_dt','cdc_case_earliest_dt','death_yn'], axis=1)\n",
    "y = df['death_yn']"
   ]
  },
  {
   "cell_type": "code",
   "execution_count": 27,
   "id": "25386f75",
   "metadata": {},
   "outputs": [],
   "source": [
    "# transform the categorical variables to dummy variables\n",
    "X = pd.get_dummies(X, drop_first=True)\n"
   ]
  },
  {
   "cell_type": "code",
   "execution_count": 28,
   "id": "1e179627",
   "metadata": {},
   "outputs": [],
   "source": [
    "# import necessary module\n",
    "\n",
    "from sklearn.model_selection import train_test_split\n",
    "from sklearn.preprocessing import StandardScaler"
   ]
  },
  {
   "cell_type": "code",
   "execution_count": 29,
   "id": "9f706649",
   "metadata": {},
   "outputs": [],
   "source": [
    "# split the dataset into training set and test set\n",
    "\n",
    "X_train, X_test, y_train, y_test = train_test_split(X, y, test_size=0.3, random_state=101)"
   ]
  },
  {
   "cell_type": "code",
   "execution_count": 30,
   "id": "bd6a2e3b",
   "metadata": {},
   "outputs": [],
   "source": [
    "# declare the scaler\n",
    "\n",
    "scaler = StandardScaler()\n",
    "\n",
    "# scale the data\n",
    "\n",
    "scaled_X_train = scaler.fit_transform(X_train)\n",
    "scaled_X_test = scaler.transform(X_test)\n"
   ]
  },
  {
   "cell_type": "code",
   "execution_count": 31,
   "id": "86870a39",
   "metadata": {},
   "outputs": [],
   "source": [
    "from sklearn.metrics import accuracy_score,confusion_matrix,classification_report,plot_confusion_matrix\n",
    "from sklearn.metrics import precision_score\n",
    "from sklearn.metrics import recall_score\n",
    "from sklearn.metrics import f1_score\n",
    "from sklearn.metrics import average_precision_score\n",
    "from sklearn.metrics import roc_curve\n",
    "from sklearn.metrics import auc, roc_auc_score"
   ]
  },
  {
   "cell_type": "code",
   "execution_count": 32,
   "id": "200eead7",
   "metadata": {},
   "outputs": [],
   "source": [
    "# a function for model performance evaluation\n",
    "\n",
    "def model_performance(model_name, model, prediction):\n",
    "    print(\"Model:\", model_name)\n",
    "    conf_mat = confusion_matrix(y_test, prediction)\n",
    "    TP = conf_mat[1][1]\n",
    "    TN = conf_mat[0][0]\n",
    "    FP = conf_mat[0][1]\n",
    "    FN = conf_mat[1][0]\n",
    "\n",
    "    fpr, tpr, thresholds = roc_curve(y_test, prediction)\n",
    "    roc_auc = auc(fpr, tpr)\n",
    "    roc_auc = roc_auc_score(y_test, model.predict_proba(scaled_X_test)[:, 1])\n",
    "\n",
    "    print(\"accuracy:\", round(accuracy_score(y_test, prediction), 4))\n",
    "    print(\"precision:\", round(precision_score(y_test, prediction), 4))\n",
    "    print(\"sensitivity:\", round(recall_score(y_test, prediction), 4))\n",
    "    print(\"specificity:\", round((TN / float(TN + FP)), 4))\n",
    "    print(\"F measure:\", round(f1_score(y_test, prediction), 4))\n",
    "    print(\"AUC:\", round(roc_auc, 4))\n",
    "    print(\"Classification Report:\\n\")\n",
    "    print(classification_report(y_test,prediction))\n",
    "    print(\"Confusion Matrix:\\n\")\n",
    "    plot_confusion_matrix(model,scaled_X_test,y_test,normalize='true');"
   ]
  },
  {
   "cell_type": "markdown",
   "id": "862cf344",
   "metadata": {},
   "source": [
    "# Logistic Regression Classifier"
   ]
  },
  {
   "cell_type": "code",
   "execution_count": 33,
   "id": "3af751e8",
   "metadata": {},
   "outputs": [],
   "source": [
    "# import necessary module\n",
    "\n",
    "from sklearn.linear_model import LogisticRegression\n"
   ]
  },
  {
   "cell_type": "code",
   "execution_count": 34,
   "id": "64e1703a",
   "metadata": {},
   "outputs": [],
   "source": [
    "# record the start time\n",
    "lrstart = time.time()\n",
    "\n",
    "# declare the model\n",
    "log_model = LogisticRegression(max_iter=100000)\n",
    "\n",
    "# fit the model to training set\n",
    "log_model.fit(scaled_X_train,y_train)\n",
    "\n",
    "# find the prediction of y using the model fitted\n",
    "y_pred = log_model.predict(scaled_X_test)\n",
    "\n",
    "# record the end time\n",
    "lrend = time.time()\n",
    "\n",
    "lrtime = lrend - lrstart\n"
   ]
  },
  {
   "cell_type": "code",
   "execution_count": 35,
   "id": "3c457af0",
   "metadata": {},
   "outputs": [],
   "source": [
    "# create a new dataframe to store the coefficients\n",
    "\n",
    "coef_df = pd.DataFrame(X_train.columns, columns=['Attribute'])\n",
    "\n",
    "# merge the coef to the dataframe\n",
    "\n",
    "coef_df = coef_df.join(pd.DataFrame(log_model.coef_).transpose())\n",
    "\n",
    "# rename column of coefficients\n",
    "\n",
    "coef_df.rename(columns = {0:'Coefficient'}, inplace = True)"
   ]
  },
  {
   "cell_type": "code",
   "execution_count": 36,
   "id": "581f2588",
   "metadata": {},
   "outputs": [
    {
     "data": {
      "text/html": [
       "<div>\n",
       "<style scoped>\n",
       "    .dataframe tbody tr th:only-of-type {\n",
       "        vertical-align: middle;\n",
       "    }\n",
       "\n",
       "    .dataframe tbody tr th {\n",
       "        vertical-align: top;\n",
       "    }\n",
       "\n",
       "    .dataframe thead th {\n",
       "        text-align: right;\n",
       "    }\n",
       "</style>\n",
       "<table border=\"1\" class=\"dataframe\">\n",
       "  <thead>\n",
       "    <tr style=\"text-align: right;\">\n",
       "      <th></th>\n",
       "      <th>Attribute</th>\n",
       "      <th>Coefficient</th>\n",
       "    </tr>\n",
       "  </thead>\n",
       "  <tbody>\n",
       "    <tr>\n",
       "      <th>0</th>\n",
       "      <td>earliest_to_report</td>\n",
       "      <td>0.024155</td>\n",
       "    </tr>\n",
       "    <tr>\n",
       "      <th>1</th>\n",
       "      <td>current_status_Probable Case</td>\n",
       "      <td>0.019238</td>\n",
       "    </tr>\n",
       "    <tr>\n",
       "      <th>2</th>\n",
       "      <td>sex_Male</td>\n",
       "      <td>0.218774</td>\n",
       "    </tr>\n",
       "    <tr>\n",
       "      <th>3</th>\n",
       "      <td>sex_Missing</td>\n",
       "      <td>-0.026100</td>\n",
       "    </tr>\n",
       "    <tr>\n",
       "      <th>4</th>\n",
       "      <td>sex_Other</td>\n",
       "      <td>0.004627</td>\n",
       "    </tr>\n",
       "    <tr>\n",
       "      <th>5</th>\n",
       "      <td>sex_Unknown</td>\n",
       "      <td>0.003407</td>\n",
       "    </tr>\n",
       "    <tr>\n",
       "      <th>6</th>\n",
       "      <td>age_group_10 - 19 Years</td>\n",
       "      <td>0.012703</td>\n",
       "    </tr>\n",
       "    <tr>\n",
       "      <th>7</th>\n",
       "      <td>age_group_20 - 29 Years</td>\n",
       "      <td>0.331456</td>\n",
       "    </tr>\n",
       "    <tr>\n",
       "      <th>8</th>\n",
       "      <td>age_group_30 - 39 Years</td>\n",
       "      <td>0.559008</td>\n",
       "    </tr>\n",
       "    <tr>\n",
       "      <th>9</th>\n",
       "      <td>age_group_40 - 49 Years</td>\n",
       "      <td>0.793421</td>\n",
       "    </tr>\n",
       "    <tr>\n",
       "      <th>10</th>\n",
       "      <td>age_group_50 - 59 Years</td>\n",
       "      <td>1.112623</td>\n",
       "    </tr>\n",
       "    <tr>\n",
       "      <th>11</th>\n",
       "      <td>age_group_60 - 69 Years</td>\n",
       "      <td>1.522419</td>\n",
       "    </tr>\n",
       "    <tr>\n",
       "      <th>12</th>\n",
       "      <td>age_group_70 - 79 Years</td>\n",
       "      <td>1.941413</td>\n",
       "    </tr>\n",
       "    <tr>\n",
       "      <th>13</th>\n",
       "      <td>age_group_80+ Years</td>\n",
       "      <td>2.888436</td>\n",
       "    </tr>\n",
       "    <tr>\n",
       "      <th>14</th>\n",
       "      <td>age_group_Missing</td>\n",
       "      <td>0.058328</td>\n",
       "    </tr>\n",
       "    <tr>\n",
       "      <th>15</th>\n",
       "      <td>race_ethnicity_combined_Asian, Non-Hispanic</td>\n",
       "      <td>-0.026844</td>\n",
       "    </tr>\n",
       "    <tr>\n",
       "      <th>16</th>\n",
       "      <td>race_ethnicity_combined_Black, Non-Hispanic</td>\n",
       "      <td>-0.079420</td>\n",
       "    </tr>\n",
       "    <tr>\n",
       "      <th>17</th>\n",
       "      <td>race_ethnicity_combined_Hispanic/Latino</td>\n",
       "      <td>-0.033714</td>\n",
       "    </tr>\n",
       "    <tr>\n",
       "      <th>18</th>\n",
       "      <td>race_ethnicity_combined_Missing</td>\n",
       "      <td>0.029272</td>\n",
       "    </tr>\n",
       "    <tr>\n",
       "      <th>19</th>\n",
       "      <td>race_ethnicity_combined_Multiple/Other, Non-Hi...</td>\n",
       "      <td>-0.095866</td>\n",
       "    </tr>\n",
       "    <tr>\n",
       "      <th>20</th>\n",
       "      <td>race_ethnicity_combined_Native Hawaiian/Other ...</td>\n",
       "      <td>0.014770</td>\n",
       "    </tr>\n",
       "    <tr>\n",
       "      <th>21</th>\n",
       "      <td>race_ethnicity_combined_Unknown</td>\n",
       "      <td>-0.515337</td>\n",
       "    </tr>\n",
       "    <tr>\n",
       "      <th>22</th>\n",
       "      <td>race_ethnicity_combined_White, Non-Hispanic</td>\n",
       "      <td>-0.370904</td>\n",
       "    </tr>\n",
       "    <tr>\n",
       "      <th>23</th>\n",
       "      <td>hosp_yn_No</td>\n",
       "      <td>-0.698341</td>\n",
       "    </tr>\n",
       "    <tr>\n",
       "      <th>24</th>\n",
       "      <td>hosp_yn_Unknown</td>\n",
       "      <td>0.021348</td>\n",
       "    </tr>\n",
       "    <tr>\n",
       "      <th>25</th>\n",
       "      <td>hosp_yn_Yes</td>\n",
       "      <td>0.791883</td>\n",
       "    </tr>\n",
       "    <tr>\n",
       "      <th>26</th>\n",
       "      <td>icu_yn_No</td>\n",
       "      <td>-0.155589</td>\n",
       "    </tr>\n",
       "    <tr>\n",
       "      <th>27</th>\n",
       "      <td>icu_yn_Unknown</td>\n",
       "      <td>0.061673</td>\n",
       "    </tr>\n",
       "    <tr>\n",
       "      <th>28</th>\n",
       "      <td>icu_yn_Yes</td>\n",
       "      <td>0.484832</td>\n",
       "    </tr>\n",
       "    <tr>\n",
       "      <th>29</th>\n",
       "      <td>icu_yn_nul</td>\n",
       "      <td>-0.044563</td>\n",
       "    </tr>\n",
       "    <tr>\n",
       "      <th>30</th>\n",
       "      <td>medcond_yn_No</td>\n",
       "      <td>-0.378685</td>\n",
       "    </tr>\n",
       "    <tr>\n",
       "      <th>31</th>\n",
       "      <td>medcond_yn_Unknown</td>\n",
       "      <td>-0.214742</td>\n",
       "    </tr>\n",
       "    <tr>\n",
       "      <th>32</th>\n",
       "      <td>medcond_yn_Yes</td>\n",
       "      <td>-0.095068</td>\n",
       "    </tr>\n",
       "  </tbody>\n",
       "</table>\n",
       "</div>"
      ],
      "text/plain": [
       "                                            Attribute  Coefficient\n",
       "0                                  earliest_to_report     0.024155\n",
       "1                        current_status_Probable Case     0.019238\n",
       "2                                            sex_Male     0.218774\n",
       "3                                         sex_Missing    -0.026100\n",
       "4                                           sex_Other     0.004627\n",
       "5                                         sex_Unknown     0.003407\n",
       "6                             age_group_10 - 19 Years     0.012703\n",
       "7                             age_group_20 - 29 Years     0.331456\n",
       "8                             age_group_30 - 39 Years     0.559008\n",
       "9                             age_group_40 - 49 Years     0.793421\n",
       "10                            age_group_50 - 59 Years     1.112623\n",
       "11                            age_group_60 - 69 Years     1.522419\n",
       "12                            age_group_70 - 79 Years     1.941413\n",
       "13                                age_group_80+ Years     2.888436\n",
       "14                                  age_group_Missing     0.058328\n",
       "15        race_ethnicity_combined_Asian, Non-Hispanic    -0.026844\n",
       "16        race_ethnicity_combined_Black, Non-Hispanic    -0.079420\n",
       "17            race_ethnicity_combined_Hispanic/Latino    -0.033714\n",
       "18                    race_ethnicity_combined_Missing     0.029272\n",
       "19  race_ethnicity_combined_Multiple/Other, Non-Hi...    -0.095866\n",
       "20  race_ethnicity_combined_Native Hawaiian/Other ...     0.014770\n",
       "21                    race_ethnicity_combined_Unknown    -0.515337\n",
       "22        race_ethnicity_combined_White, Non-Hispanic    -0.370904\n",
       "23                                         hosp_yn_No    -0.698341\n",
       "24                                    hosp_yn_Unknown     0.021348\n",
       "25                                        hosp_yn_Yes     0.791883\n",
       "26                                          icu_yn_No    -0.155589\n",
       "27                                     icu_yn_Unknown     0.061673\n",
       "28                                         icu_yn_Yes     0.484832\n",
       "29                                         icu_yn_nul    -0.044563\n",
       "30                                      medcond_yn_No    -0.378685\n",
       "31                                 medcond_yn_Unknown    -0.214742\n",
       "32                                     medcond_yn_Yes    -0.095068"
      ]
     },
     "execution_count": 36,
     "metadata": {},
     "output_type": "execute_result"
    }
   ],
   "source": [
    "# check the coefficients for each attribute\n",
    "\n",
    "coef_df"
   ]
  },
  {
   "cell_type": "code",
   "execution_count": 37,
   "id": "82b8ad57",
   "metadata": {},
   "outputs": [
    {
     "name": "stdout",
     "output_type": "stream",
     "text": [
      "Model: Logistic Regression\n",
      "accuracy: 0.8942\n",
      "precision: 0.8872\n",
      "sensitivity: 0.8897\n",
      "specificity: 0.8982\n",
      "F measure: 0.8885\n",
      "AUC: 0.9547\n",
      "Classification Report:\n",
      "\n",
      "              precision    recall  f1-score   support\n",
      "\n",
      "           0       0.90      0.90      0.90    210184\n",
      "           1       0.89      0.89      0.89    189176\n",
      "\n",
      "    accuracy                           0.89    399360\n",
      "   macro avg       0.89      0.89      0.89    399360\n",
      "weighted avg       0.89      0.89      0.89    399360\n",
      "\n",
      "Confusion Matrix:\n",
      "\n"
     ]
    },
    {
     "data": {
      "image/png": "[encoded data removed]",
      "text/plain": [
       "<Figure size 432x288 with 2 Axes>"
      ]
     },
     "metadata": {
      "needs_background": "light"
     },
     "output_type": "display_data"
    }
   ],
   "source": [
    "# model performance evaluation\n",
    "\n",
    "model_performance(\"Logistic Regression\",log_model,y_pred)"
   ]
  },
  {
   "cell_type": "markdown",
   "id": "984e322b",
   "metadata": {},
   "source": [
    "# Random Forest"
   ]
  },
  {
   "cell_type": "code",
   "execution_count": 43,
   "id": "06753b0d",
   "metadata": {},
   "outputs": [],
   "source": [
    "from sklearn.ensemble import RandomForestClassifier\n",
    "\n",
    "rfcstart = time.time()\n",
    "\n",
    "# Use 10 random trees\n",
    "rfc = RandomForestClassifier(n_estimators=10,max_features='auto',random_state=101)\n",
    "rfc.fit(scaled_X_train,y_train)\n",
    "y_pred = rfc.predict(scaled_X_test)\n",
    "\n",
    "rfcend = time.time()\n",
    "\n",
    "rfctime = rfcend - rfcstart"
   ]
  },
  {
   "cell_type": "code",
   "execution_count": 46,
   "id": "96115a58",
   "metadata": {},
   "outputs": [],
   "source": [
    "test_error = []\n",
    "\n",
    "for n in range(1,40):\n",
    "    # Use n random trees\n",
    "    model = RandomForestClassifier(n_estimators=n,max_features='auto')\n",
    "    model.fit(scaled_X_train,y_train)\n",
    "    y_pred = model.predict(scaled_X_test)\n",
    "    test_error.append(1-accuracy_score(y_pred,y_test))"
   ]
  },
  {
   "cell_type": "code",
   "execution_count": 47,
   "id": "75476c0d",
   "metadata": {},
   "outputs": [
    {
     "data": {
      "image/png": "[encoded data removed]",
      "text/plain": [
       "<Figure size 1500x900 with 1 Axes>"
      ]
     },
     "metadata": {
      "needs_background": "light"
     },
     "output_type": "display_data"
    }
   ],
   "source": [
    "plt.figure(figsize=(10,6),dpi=150)\n",
    "plt.plot(range(1,40),test_error,label='Test Error')\n",
    "plt.xlabel('number of trees')\n",
    "plt.ylabel('test error')\n",
    "plt.legend()\n",
    "plt.savefig('./randomforestelbow.png',bbox_inches='tight')"
   ]
  },
  {
   "cell_type": "code",
   "execution_count": 48,
   "id": "85d25395",
   "metadata": {},
   "outputs": [
    {
     "name": "stdout",
     "output_type": "stream",
     "text": [
      "Model: Random Forest with 10 random trees\n",
      "accuracy: 0.8965\n",
      "precision: 0.8862\n",
      "sensitivity: 0.8967\n",
      "specificity: 0.8964\n",
      "F measure: 0.8914\n",
      "AUC: 0.9485\n",
      "Classification Report:\n",
      "\n",
      "              precision    recall  f1-score   support\n",
      "\n",
      "           0       0.91      0.90      0.90    210184\n",
      "           1       0.89      0.90      0.89    189176\n",
      "\n",
      "    accuracy                           0.90    399360\n",
      "   macro avg       0.90      0.90      0.90    399360\n",
      "weighted avg       0.90      0.90      0.90    399360\n",
      "\n",
      "Confusion Matrix:\n",
      "\n"
     ]
    },
    {
     "data": {
      "image/png": "[encoded data removed]",
      "text/plain": [
       "<Figure size 432x288 with 2 Axes>"
      ]
     },
     "metadata": {
      "needs_background": "light"
     },
     "output_type": "display_data"
    }
   ],
   "source": [
    "model_performance(\"Random Forest with 10 random trees\",rfc,y_pred)"
   ]
  },
  {
   "cell_type": "markdown",
   "id": "f09fc680",
   "metadata": {},
   "source": [
    "# Bernoulli Naive Bayes"
   ]
  },
  {
   "cell_type": "code",
   "execution_count": 52,
   "id": "55f515db",
   "metadata": {},
   "outputs": [],
   "source": [
    "from sklearn.naive_bayes import BernoulliNB\n",
    "\n",
    "nbstart = time.time()\n",
    "\n",
    "nb = BernoulliNB()\n",
    "nb.fit(scaled_X_train, y_train)\n",
    "y_pred = nb.predict(scaled_X_test)\n",
    "\n",
    "nbend = time.time()\n",
    "\n",
    "nbtime = nbend - nbstart"
   ]
  },
  {
   "cell_type": "code",
   "execution_count": 55,
   "id": "161d9b30",
   "metadata": {},
   "outputs": [
    {
     "name": "stdout",
     "output_type": "stream",
     "text": [
      "Model: Bernoulli Naive Bayes\n",
      "accuracy: 0.8857\n",
      "precision: 0.8903\n",
      "sensitivity: 0.8653\n",
      "specificity: 0.9041\n",
      "F measure: 0.8776\n",
      "AUC: 0.9477\n",
      "Classification Report:\n",
      "\n",
      "              precision    recall  f1-score   support\n",
      "\n",
      "           0       0.88      0.90      0.89    210184\n",
      "           1       0.89      0.87      0.88    189176\n",
      "\n",
      "    accuracy                           0.89    399360\n",
      "   macro avg       0.89      0.88      0.89    399360\n",
      "weighted avg       0.89      0.89      0.89    399360\n",
      "\n",
      "Confusion Matrix:\n",
      "\n"
     ]
    },
    {
     "data": {
      "image/png": "[encoded data removed]",
      "text/plain": [
       "<Figure size 432x288 with 2 Axes>"
      ]
     },
     "metadata": {
      "needs_background": "light"
     },
     "output_type": "display_data"
    }
   ],
   "source": [
    "model_performance(\"Bernoulli Naive Bayes\",nb,y_pred)"
   ]
  },
  {
   "cell_type": "markdown",
   "id": "36505765",
   "metadata": {},
   "source": [
    "# Ensemble Classifier"
   ]
  },
  {
   "cell_type": "code",
   "execution_count": 78,
   "id": "561fbd30",
   "metadata": {},
   "outputs": [],
   "source": [
    "from sklearn.ensemble import VotingClassifier\n",
    "\n",
    "ensemble_start = time.time()\n",
    "\n",
    "ensemble_model = VotingClassifier(estimators=[('nb', nb),('rfc', rfc), ('lr', log_model)], voting='soft')\n",
    "ensemble_model.fit(scaled_X_train,y_train)\n",
    "\n",
    "y_pred = ensemble_model.predict(scaled_X_test)\n",
    "\n",
    "ensemble_end = time.time()\n",
    "ensemble_time = ensemble_end - ensemble_start"
   ]
  },
  {
   "cell_type": "code",
   "execution_count": 79,
   "id": "9a6c5711",
   "metadata": {},
   "outputs": [
    {
     "name": "stdout",
     "output_type": "stream",
     "text": [
      "Model: Ensemble Model with soft voting\n",
      "accuracy: 0.8998\n",
      "precision: 0.8942\n",
      "sensitivity: 0.8944\n",
      "specificity: 0.9047\n",
      "F measure: 0.8943\n",
      "AUC: 0.957\n",
      "Classification Report:\n",
      "\n",
      "              precision    recall  f1-score   support\n",
      "\n",
      "           0       0.90      0.90      0.90    210184\n",
      "           1       0.89      0.89      0.89    189176\n",
      "\n",
      "    accuracy                           0.90    399360\n",
      "   macro avg       0.90      0.90      0.90    399360\n",
      "weighted avg       0.90      0.90      0.90    399360\n",
      "\n",
      "Confusion Matrix:\n",
      "\n"
     ]
    },
    {
     "data": {
      "image/png": "[encoded data removed]",
      "text/plain": [
       "<Figure size 432x288 with 2 Axes>"
      ]
     },
     "metadata": {
      "needs_background": "light"
     },
     "output_type": "display_data"
    }
   ],
   "source": [
    "model_performance(\"Ensemble Model with soft voting\",ensemble_model,y_pred)"
   ]
  },
  {
   "cell_type": "markdown",
   "id": "c6e8fb50",
   "metadata": {},
   "source": [
    "# Model Comparisons"
   ]
  },
  {
   "cell_type": "code",
   "execution_count": 80,
   "id": "c44ee586",
   "metadata": {},
   "outputs": [
    {
     "data": {
      "image/png": "[encoded data removed]",
      "text/plain": [
       "<Figure size 432x288 with 1 Axes>"
      ]
     },
     "metadata": {
      "needs_background": "light"
     },
     "output_type": "display_data"
    }
   ],
   "source": [
    "# ROC comparison\n",
    "\n",
    "en_dis = plot_roc_curve(ensemble_model,scaled_X_test,y_test)\n",
    "nb_dis = plot_roc_curve(nb,scaled_X_test,y_test,ax=en_dis.ax_)\n",
    "rfc_dis = plot_roc_curve(rfc,scaled_X_test,y_test,ax=en_dis.ax_)\n",
    "lr_dis = plot_roc_curve(log_model,scaled_X_test,y_test,ax=en_dis.ax_)\n",
    "plt.title('ROC Comparison')\n",
    "plt.ylabel('True Positive Rate')\n",
    "plt.xlabel('False Positive Rate')\n",
    "plt.show()"
   ]
  },
  {
   "cell_type": "code",
   "execution_count": 82,
   "id": "d40afde6",
   "metadata": {},
   "outputs": [
    {
     "data": {
      "image/png": "[encoded data removed]",
      "text/plain": [
       "<Figure size 432x288 with 1 Axes>"
      ]
     },
     "metadata": {
      "needs_background": "light"
     },
     "output_type": "display_data"
    }
   ],
   "source": [
    "# model process time\n",
    "cla = ['LR','RFC','BNB','Ensemble']\n",
    "time = [lrtime,rfctime,nbtime,ensemble_time]\n",
    "plt.plot(cla, time, 'bo-')\n",
    "plt.title('Time taken to train Model')\n",
    "plt.xlabel('Classifier')\n",
    "plt.ylabel('Seconds')\n",
    "\n",
    "for x,y in zip(cla,time):\n",
    "    label = \"{:.3f}\".format(y)\n",
    "    plt.annotate(label, # this is the text\n",
    "                 (x,y), # this is the point to label\n",
    "                 textcoords=\"offset points\", # how to position the text\n",
    "                 xytext=(0,10), # distance from text to points (x,y)\n",
    "                 ha='center') # horizontal alignment can be left, right or center\n",
    "\n",
    "plt.show()"
   ]
  },
  {
   "cell_type": "code",
   "execution_count": null,
   "id": "0149400d",
   "metadata": {},
   "outputs": [],
   "source": []
  }
 ],
 "metadata": {
  "kernelspec": {
   "display_name": "Python 3",
   "language": "python",
   "name": "python3"
  },
  "language_info": {
   "codemirror_mode": {
    "name": "ipython",
    "version": 3
   },
   "file_extension": ".py",
   "mimetype": "text/x-python",
   "name": "python",
   "nbconvert_exporter": "python",
   "pygments_lexer": "ipython3",
   "version": "3.8.8"
  }
 },
 "nbformat": 4,
 "nbformat_minor": 5
}
